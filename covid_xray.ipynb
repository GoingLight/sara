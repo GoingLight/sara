{
  "cells": [
    {
      "cell_type": "markdown",
      "metadata": {
        "id": "view-in-github",
        "colab_type": "text"
      },
      "source": [
        "<a href=\"https://colab.research.google.com/github/GoingLight/sara/blob/main/covid_xray.ipynb\" target=\"_parent\"><img src=\"https://colab.research.google.com/assets/colab-badge.svg\" alt=\"Open In Colab\"/></a>"
      ]
    },
    {
      "cell_type": "code",
      "execution_count": null,
      "id": "ca52c9a9-a536-466e-ad37-1657ae021335",
      "metadata": {
        "colab": {
          "base_uri": "https://localhost:8080/"
        },
        "id": "ca52c9a9-a536-466e-ad37-1657ae021335",
        "outputId": "e4483e95-c9a6-445f-fe61-3330ff2d87e6"
      },
      "outputs": [
        {
          "output_type": "stream",
          "name": "stdout",
          "text": [
            "WARNING:tensorflow:No training configuration found in the save file, so the model was *not* compiled. Compile it manually.\n"
          ]
        }
      ],
      "source": [
        "from tensorflow.keras.models import load_model\n",
        "from PIL import Image, ImageOps\n",
        "import numpy as np\n",
        "\n",
        "# Load the model\n",
        "model = load_model('keras_model.h5')"
      ]
    },
    {
      "cell_type": "code",
      "execution_count": null,
      "id": "fedcc05e-dd86-497e-b618-0fee8d1ba6d2",
      "metadata": {
        "id": "fedcc05e-dd86-497e-b618-0fee8d1ba6d2"
      },
      "outputs": [],
      "source": [
        "# !pip install pillow"
      ]
    },
    {
      "cell_type": "code",
      "execution_count": null,
      "id": "039ccada-dea4-47a7-92d9-f9a69b8cfdbe",
      "metadata": {
        "id": "039ccada-dea4-47a7-92d9-f9a69b8cfdbe"
      },
      "outputs": [],
      "source": [
        "# Let's read filenames for testing\n",
        "from os import listdir\n",
        "from os.path import isfile, join\n",
        "path_covid= 'Covid_test'\n",
        "covid_files = [f for f in listdir(path_covid) if isfile(join(path_covid, f))]\n",
        "path_normal = 'Normal_test'\n",
        "normal_files = [f for f in listdir(path_normal) if isfile(join(path_normal, f))]"
      ]
    },
    {
      "cell_type": "code",
      "execution_count": null,
      "id": "c4a4b9c9-1147-4c8f-966e-04be9ee1c249",
      "metadata": {
        "id": "c4a4b9c9-1147-4c8f-966e-04be9ee1c249",
        "outputId": "811db52b-1798-4272-ca4b-b29d7b83b690",
        "colab": {
          "base_uri": "https://localhost:8080/"
        }
      },
      "outputs": [
        {
          "output_type": "stream",
          "name": "stdout",
          "text": [
            "[9.9999321e-01 6.8176792e-06 1.1254892e-16]\n",
            "COVID-19\n"
          ]
        }
      ],
      "source": [
        "labels=['COVID-19', 'Normal', 'Viral pneumonia']\n",
        "# Create the array of the right shape to feed into the keras model\n",
        "# The 'length' or number of images you can put into the array is\n",
        "# determined by the first position in the shape tuple, in this case 1.\n",
        "data = np.ndarray(shape=(1, 224, 224, 3), dtype=np.float32)\n",
        "# Replace this with the path to your image\n",
        "path = f\"Covid_test/{covid_files[0]}\"\n",
        "# image = Image.open(path)\n",
        "image = Image.open(path).convert('RGB')\n",
        "#resize the image to a 224x224 with the same strategy as in TM2:\n",
        "#resizing the image to be at least 224x224 and then cropping from the center\n",
        "size = (224, 224)\n",
        "image = ImageOps.fit(image, size, Image.ANTIALIAS)\n",
        "\n",
        "#turn the image into a numpy array\n",
        "image_array = np.asarray(image)\n",
        "# Normalize the image\n",
        "normalized_image_array = (image_array.astype(np.float32) / 127.0) - 1\n",
        "# Load the image into the array\n",
        "data[0] = normalized_image_array\n",
        "\n",
        "# run the inference\n",
        "prediction = model.predict(data)[0]\n",
        "print(prediction)\n",
        "print(labels[prediction.argmax()])"
      ]
    },
    {
      "cell_type": "code",
      "execution_count": null,
      "id": "e413bee2-6c7f-4a9f-b479-90cac0177cd6",
      "metadata": {
        "id": "e413bee2-6c7f-4a9f-b479-90cac0177cd6"
      },
      "outputs": [],
      "source": [
        "labels=['COVID-19', 'Normal', 'Viral pneumonia']\n",
        "# Create the array of the right shape to feed into the keras model\n",
        "# The 'length' or number of images you can put into the array is\n",
        "# determined by the first position in the shape tuple, in this case 1.\n",
        "data = np.ndarray(shape=(1, 224, 224, 3), dtype=np.float32)\n",
        "# Replace this with the path to your image\n",
        "predictions=[]\n",
        "for file in covid_files:\n",
        "    path = f\"Covid_test/{file}\"\n",
        "    # image = Image.open(path)\n",
        "    image = Image.open(path).convert('RGB')\n",
        "    #resize the image to a 224x224 with the same strategy as in TM2:\n",
        "    #resizing the image to be at least 224x224 and then cropping from the center\n",
        "    size = (224, 224)\n",
        "    image = ImageOps.fit(image, size, Image.ANTIALIAS)\n",
        "\n",
        "    #turn the image into a numpy array\n",
        "    image_array = np.asarray(image)\n",
        "    # Normalize the image\n",
        "    normalized_image_array = (image_array.astype(np.float32) / 127.0) - 1\n",
        "    # Load the image into the array\n",
        "    data[0] = normalized_image_array\n",
        "\n",
        "    # run the inference\n",
        "    pred = model.predict(data)[0]\n",
        "    # print(prediction)\n",
        "    # print(labels[pred.argmax()])\n",
        "    predictions.append(labels[pred.argmax()]==labels[0])"
      ]
    },
    {
      "cell_type": "code",
      "execution_count": null,
      "id": "4bee18e4-d230-4899-ab93-aeb540c2329c",
      "metadata": {
        "id": "4bee18e4-d230-4899-ab93-aeb540c2329c",
        "outputId": "579db6bb-6c0b-4016-ac39-93a9f940be69",
        "colab": {
          "base_uri": "https://localhost:8080/"
        }
      },
      "outputs": [
        {
          "output_type": "stream",
          "name": "stdout",
          "text": [
            "COVID-19 prediction accuracy: 99.57627118644068%\n"
          ]
        }
      ],
      "source": [
        "print(f\"COVID-19 prediction accuracy: {sum(predictions)/len(predictions)*100}%\")"
      ]
    },
    {
      "cell_type": "code",
      "execution_count": 9,
      "id": "a8006f4a-10fc-48bb-9b94-77e8e3f9007b",
      "metadata": {
        "id": "a8006f4a-10fc-48bb-9b94-77e8e3f9007b",
        "outputId": "d41893b7-fcd7-4154-8e49-92445c11334e",
        "colab": {
          "base_uri": "https://localhost:8080/",
          "height": 200
        }
      },
      "outputs": [
        {
          "output_type": "error",
          "ename": "ZeroDivisionError",
          "evalue": "ignored",
          "traceback": [
            "\u001b[0;31m---------------------------------------------------------------------------\u001b[0m",
            "\u001b[0;31mZeroDivisionError\u001b[0m                         Traceback (most recent call last)",
            "\u001b[0;32m<ipython-input-9-872fe18eb335>\u001b[0m in \u001b[0;36m<module>\u001b[0;34m()\u001b[0m\n\u001b[1;32m     26\u001b[0m     \u001b[0mprint\u001b[0m\u001b[0;34m(\u001b[0m\u001b[0mlabels\u001b[0m\u001b[0;34m[\u001b[0m\u001b[0mpred\u001b[0m\u001b[0;34m.\u001b[0m\u001b[0margmax\u001b[0m\u001b[0;34m(\u001b[0m\u001b[0;34m)\u001b[0m\u001b[0;34m]\u001b[0m\u001b[0;34m)\u001b[0m\u001b[0;34m\u001b[0m\u001b[0;34m\u001b[0m\u001b[0m\n\u001b[1;32m     27\u001b[0m     \u001b[0mpredictions\u001b[0m\u001b[0;34m.\u001b[0m\u001b[0mappend\u001b[0m\u001b[0;34m(\u001b[0m\u001b[0mlabels\u001b[0m\u001b[0;34m[\u001b[0m\u001b[0mpred\u001b[0m\u001b[0;34m.\u001b[0m\u001b[0margmax\u001b[0m\u001b[0;34m(\u001b[0m\u001b[0;34m)\u001b[0m\u001b[0;34m]\u001b[0m\u001b[0;34m==\u001b[0m\u001b[0mlabels\u001b[0m\u001b[0;34m[\u001b[0m\u001b[0;36m1\u001b[0m\u001b[0;34m]\u001b[0m\u001b[0;34m)\u001b[0m\u001b[0;34m\u001b[0m\u001b[0;34m\u001b[0m\u001b[0m\n\u001b[0;32m---> 28\u001b[0;31m \u001b[0mprint\u001b[0m\u001b[0;34m(\u001b[0m\u001b[0;34mf\"Normal X-Ray prediction accuracy: {sum(predictions)/len(predictions)*100}%\"\u001b[0m\u001b[0;34m)\u001b[0m\u001b[0;34m\u001b[0m\u001b[0;34m\u001b[0m\u001b[0m\n\u001b[0m",
            "\u001b[0;31mZeroDivisionError\u001b[0m: division by zero"
          ]
        }
      ],
      "source": [
        "# Create the array of the right shape to feed into the keras model\n",
        "# The 'length' or number of images you can put into the array is\n",
        "# determined by the first position in the shape tuple, in this case 1.\n",
        "data = np.ndarray(shape=(1, 224, 224, 3), dtype=np.float32)\n",
        "# Replace this with the path to your image\n",
        "predictions=[]\n",
        "for file in normal_files:\n",
        "    path = f\"Normal_test/{file}\"\n",
        "    # image = Image.open(path)\n",
        "    image = Image.open(path).convert('RGB')\n",
        "    #resize the image to a 224x224 with the same strategy as in TM2:\n",
        "    #resizing the image to be at least 224x224 and then cropping from the center\n",
        "    size = (224, 224)\n",
        "    image = ImageOps.fit(image, size, Image.ANTIALIAS)\n",
        "\n",
        "    #turn the image into a numpy array\n",
        "    image_array = np.asarray(image)\n",
        "    # Normalize the image\n",
        "    normalized_image_array = (image_array.astype(np.float32) / 127.0) - 1\n",
        "    # Load the image into the array\n",
        "    data[0] = normalized_image_array\n",
        "\n",
        "    # run the inference\n",
        "    pred = model.predict(data)[0]\n",
        "    # print(prediction)\n",
        "    print(labels[pred.argmax()])\n",
        "    predictions.append(labels[pred.argmax()]==labels[1])\n",
        "print(f\"Normal X-Ray prediction accuracy: {sum(predictions)/len(predictions)*100}%\")"
      ]
    }
  ],
  "metadata": {
    "kernelspec": {
      "display_name": "Python 3 (ipykernel)",
      "language": "python",
      "name": "python3"
    },
    "language_info": {
      "codemirror_mode": {
        "name": "ipython",
        "version": 3
      },
      "file_extension": ".py",
      "mimetype": "text/x-python",
      "name": "python",
      "nbconvert_exporter": "python",
      "pygments_lexer": "ipython3",
      "version": "3.9.7"
    },
    "colab": {
      "name": "covid-xray.ipynb",
      "provenance": [],
      "include_colab_link": true
    }
  },
  "nbformat": 4,
  "nbformat_minor": 5
}